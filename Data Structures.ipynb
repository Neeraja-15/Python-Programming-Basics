{
 "cells": [
  {
   "cell_type": "code",
   "execution_count": null,
   "id": "695d8830-cc81-4f90-a36d-0c1e8dbd780f",
   "metadata": {},
   "outputs": [],
   "source": [
    "List\n",
    ": Create a list of your top 5 favorite movies, and practice adding, removing, and accessing them."
   ]
  },
  {
   "cell_type": "code",
   "execution_count": 1,
   "id": "3f2aeba3-6e3d-4133-b7c0-9eb97b0ab8cb",
   "metadata": {},
   "outputs": [
    {
     "name": "stdout",
     "output_type": "stream",
     "text": [
      "Favorite Movies List: ['Bhahubali', 'Puspa', 'RRR', 'Titanic', 'Avatar']\n",
      "After Adding 'The Matrix': ['Bhahubali', 'Puspa', 'RRR', 'Titanic', 'Avatar', 'Devara']\n",
      "After Removing 'Titanic': ['Bhahubali', 'Puspa', 'RRR', 'Avatar', 'Devara']\n",
      "The second favorite movie is: Puspa\n",
      "The last movie in the list is: Devara\n"
     ]
    }
   ],
   "source": [
    "favorite_movies = [\"Bhahubali\", \"Puspa\", \"RRR\", \"Titanic\", \"Avatar\"] # Creating a list of top 5 favorite movies\n",
    "print(\"Favorite Movies List:\", favorite_movies)\n",
    "\n",
    "# Adding a new movie\n",
    "favorite_movies.append(\"Devara\")\n",
    "print(\"After Adding 'The Matrix':\", favorite_movies)\n",
    "\n",
    "# Removing a movie\n",
    "favorite_movies.remove(\"Titanic\")\n",
    "print(\"After Removing 'Titanic':\", favorite_movies)\n",
    "\n",
    "# Accessing a movie by index\n",
    "second_movie = favorite_movies[1]\n",
    "print(\"The second favorite movie is:\", second_movie)\n",
    "\n",
    "# Accessing the last movie\n",
    "last_movie = favorite_movies[-1]\n",
    "print(\"The last movie in the list is:\", last_movie)"
   ]
  },
  {
   "cell_type": "code",
   "execution_count": null,
   "id": "56fa59c2-e15d-47d3-8bd2-67fcf9e8aae7",
   "metadata": {},
   "outputs": [],
   "source": [
    "Tuple: Create a tuple with information about your favorite book (title, author, publication year) and print each element."
   ]
  },
  {
   "cell_type": "code",
   "execution_count": 3,
   "id": "90f48361-5d03-4178-8cd7-097f24b743f6",
   "metadata": {},
   "outputs": [
    {
     "name": "stdout",
     "output_type": "stream",
     "text": [
      "Book Title: Panchatantra\n",
      "Author: Vishnu Sharma\n",
      "Publication Year: 1800\n"
     ]
    }
   ],
   "source": [
    "favorite_book = (\"Panchatantra\", \"Vishnu Sharma\", 1800) # Creating a tuple with information about a favorite book\n",
    "\n",
    "# Printing each element of the tuple\n",
    "print(\"Book Title:\", favorite_book[0])\n",
    "print(\"Author:\", favorite_book[1])\n",
    "print(\"Publication Year:\", favorite_book[2])"
   ]
  },
  {
   "cell_type": "code",
   "execution_count": null,
   "id": "c7a64af1-a704-422a-9172-078cd317b268",
   "metadata": {},
   "outputs": [],
   "source": [
    "Sets: Create two sets of students enrolled in different courses and find the students who are enrolled in both courses."
   ]
  },
  {
   "cell_type": "code",
   "execution_count": 5,
   "id": "d5c4210e-e31b-4575-a8e5-379fb0151de5",
   "metadata": {},
   "outputs": [
    {
     "name": "stdout",
     "output_type": "stream",
     "text": [
      "Students enrolled in both courses: {'Vamsi', 'Neeraja'}\n"
     ]
    }
   ],
   "source": [
    "# Students enrolled in Python course\n",
    "python_students = {\"Neeraja\", \"Vamsi\", \"Gayi\", \"Ammu\"}\n",
    "\n",
    "# Students enrolled in Data Science course\n",
    "data_science_students = {\"Chitti\", \"Neeraja\", \"Vamsi\", \"Tarak\"}\n",
    "\n",
    "# Finding students enrolled in both courses (Intersection)\n",
    "both_courses = python_students & data_science_students\n",
    "\n",
    "print(\"Students enrolled in both courses:\", both_courses)"
   ]
  },
  {
   "cell_type": "code",
   "execution_count": null,
   "id": "ca351c79-8964-48ad-9080-89b1ef48b03c",
   "metadata": {},
   "outputs": [],
   "source": [
    "Dictionary: Create a dictionary that stores the prices of 5 items from a grocery store. Practice adding, updating, and removing items."
   ]
  },
  {
   "cell_type": "code",
   "execution_count": 7,
   "id": "96fcfa71-b78f-4ed3-b869-ccd2ecb326d7",
   "metadata": {},
   "outputs": [
    {
     "name": "stdout",
     "output_type": "stream",
     "text": [
      "Grocery Prices: {'Milk': 5, 'Bread': 3, 'Eggs': 8, 'Rice': 10, 'Apple': 2}\n",
      "After Adding Banana: {'Milk': 5, 'Bread': 3, 'Eggs': 8, 'Rice': 10, 'Apple': 2, 'Banana': 1}\n",
      "After Updating Milk Price: {'Milk': 6, 'Bread': 3, 'Eggs': 8, 'Rice': 10, 'Apple': 2, 'Banana': 1}\n",
      "After Removing Rice: {'Milk': 6, 'Bread': 3, 'Eggs': 8, 'Apple': 2, 'Banana': 1}\n"
     ]
    }
   ],
   "source": [
    "# Creating a dictionary with grocery items and their prices\n",
    "grocery_prices = {\"Milk\": 5,\"Bread\": 3,\"Eggs\": 8,\"Rice\": 10,\"Apple\": 2}\n",
    "\n",
    "print(\"Grocery Prices:\", grocery_prices)\n",
    "\n",
    "# Adding a new item\n",
    "grocery_prices[\"Banana\"] = 1\n",
    "print(\"After Adding Banana:\", grocery_prices)\n",
    "\n",
    "# Updating the price of an existing item\n",
    "grocery_prices[\"Milk\"] = 6\n",
    "print(\"After Updating Milk Price:\", grocery_prices)\n",
    "\n",
    "# Removing an item\n",
    "del grocery_prices[\"Rice\"]\n",
    "print(\"After Removing Rice:\", grocery_prices)"
   ]
  },
  {
   "cell_type": "code",
   "execution_count": 9,
   "id": "d1763747-4d66-49f4-9568-87a9b65a0fc2",
   "metadata": {},
   "outputs": [],
   "source": [
    "import numpy as np"
   ]
  },
  {
   "cell_type": "code",
   "execution_count": 11,
   "id": "05b86233-0d05-46e6-ad22-45f5dd0e8949",
   "metadata": {},
   "outputs": [
    {
     "data": {
      "text/plain": [
       "array(['1', '2', '3', '4', '5', '6', 'Dev', '4', '5', '12', '123'],\n",
       "      dtype='<U11')"
      ]
     },
     "execution_count": 11,
     "metadata": {},
     "output_type": "execute_result"
    }
   ],
   "source": [
    "# Numpy Array\n",
    "nparray = np.array([1,2,3,4,5,6,\"Dev\", 4,5,12, 123]) \n",
    "nparray\n",
    "\n",
    "# U21 - Unicode 21 Numpy type"
   ]
  },
  {
   "cell_type": "code",
   "execution_count": null,
   "id": "9ebaefc2-76d3-42bc-bdd9-448ad3c6f8f6",
   "metadata": {},
   "outputs": [],
   "source": []
  }
 ],
 "metadata": {
  "kernelspec": {
   "display_name": "Python [conda env:base] *",
   "language": "python",
   "name": "conda-base-py"
  },
  "language_info": {
   "codemirror_mode": {
    "name": "ipython",
    "version": 3
   },
   "file_extension": ".py",
   "mimetype": "text/x-python",
   "name": "python",
   "nbconvert_exporter": "python",
   "pygments_lexer": "ipython3",
   "version": "3.12.7"
  }
 },
 "nbformat": 4,
 "nbformat_minor": 5
}
