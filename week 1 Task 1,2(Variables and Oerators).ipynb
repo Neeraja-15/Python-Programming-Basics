{
 "cells": [
  {
   "cell_type": "markdown",
   "id": "4a6a9ab7-1848-42f7-bff3-b2c9249c3713",
   "metadata": {},
   "source": [
    "Python Syntax"
   ]
  },
  {
   "cell_type": "code",
   "execution_count": 63,
   "id": "8307289f-acc6-4ae3-9959-8dc1c8688a7e",
   "metadata": {},
   "outputs": [
    {
     "name": "stdout",
     "output_type": "stream",
     "text": [
      "Hello, Python!\n"
     ]
    }
   ],
   "source": [
    "print(\"Hello, Python!\")"
   ]
  },
  {
   "cell_type": "code",
   "execution_count": 67,
   "id": "e823ea29-142d-4c30-8fbb-1b0fe81b88d5",
   "metadata": {},
   "outputs": [
    {
     "data": {
      "text/plain": [
       "-10"
      ]
     },
     "execution_count": 67,
     "metadata": {},
     "output_type": "execute_result"
    }
   ],
   "source": [
    "#Syntax - Grammer of a language\n",
    "# Sum of two numbers\n",
    "num1 = 10\n",
    "num2 = 20\n",
    "sum = num1 - num2\n",
    "sum\n"
   ]
  },
  {
   "cell_type": "markdown",
   "id": "9ad9f9d2-124c-40bb-8deb-e3c32c4e2591",
   "metadata": {},
   "source": [
    "Compiler and Interpreter"
   ]
  },
  {
   "cell_type": "code",
   "execution_count": 45,
   "id": "061137fc-fe67-49bd-b4d9-0904ec64e133",
   "metadata": {},
   "outputs": [
    {
     "data": {
      "image/jpeg": "[encoded data removed]",
      "text/html": [
       "\n",
       "        <iframe\n",
       "            width=\"800\"\n",
       "            height=\"400\"\n",
       "            src=\"https://www.youtube.com/embed/Fh3ghPC-oEQ\"\n",
       "            frameborder=\"0\"\n",
       "            allowfullscreen\n",
       "            \n",
       "        ></iframe>\n",
       "        "
      ],
      "text/plain": [
       "<IPython.lib.display.YouTubeVideo at 0x1cc17621580>"
      ]
     },
     "execution_count": 45,
     "metadata": {},
     "output_type": "execute_result"
    }
   ],
   "source": [
    "from IPython.display import YouTubeVideo\n",
    "YouTubeVideo('Fh3ghPC-oEQ', width=800, height=400)"
   ]
  },
  {
   "cell_type": "markdown",
   "id": "588429a3-f5eb-4e45-a5ad-1c3d6293d970",
   "metadata": {},
   "source": [
    "Variables and Data Types"
   ]
  },
  {
   "cell_type": "code",
   "execution_count": 51,
   "id": "b8501c22-df0f-47fc-8b87-be69b047ac5e",
   "metadata": {},
   "outputs": [
    {
     "name": "stdout",
     "output_type": "stream",
     "text": [
      " a is 10 and b is 23\n",
      "a is 10 and b is 23 and their sum is 33\n",
      "a is 10 and b is 23 and their sum is 33\n"
     ]
    }
   ],
   "source": [
    "# assign a variable\n",
    "a = 10\n",
    "b = 23\n",
    "# print the values using an f string (formatted string literals)\n",
    "print(f\" a is {a} and b is {b}\")\n",
    "print(\"a is {} and b is {} and their sum is {}\".format(a, b, a + b)) #uses the .format() method\n",
    "print(\"a is %d and b is %d and their sum is %d\" % (a, b, a + b)) # %\n"
   ]
  },
  {
   "cell_type": "markdown",
   "id": "0fbee7c4-091e-4a04-828d-9aa6f0272ccd",
   "metadata": {},
   "source": [
    "Data Types:\n",
    "Python has several built-in data types that are fundamental to its functionality. Here’s a\n",
    "quick overview of the most commonly used data types:\n",
    "1. Numbers: These include integers and floating-point numbers.\n",
    "– Integers int: Whole numbers (e.g., 5, -3, 42)\n",
    "– Floats float: Numbers with a decimal point (e.g., 3.14, -0.001)\n",
    "2. Strings str: Sequences of characters enclosed in single quotes, double quotes, or\n",
    "triple quotes.\n",
    "– Single-line String: \"Hello\"\n",
    "– Multi-line String: \"\"\"Hello, World!\"\"\"\n",
    "3. Booleans bool: Represents True or False values.\n",
    "4. Lists: Ordered, mutable collections of items, which can be of mixed types.\n",
    "5. Tuples: Ordered, immutable collections of items.\n",
    "6. Dictionaries: Unordered collections of key-value pairs.\n",
    "7. Sets: Unordered collections of unique items.\n",
    "8. None: Represents the absence of a value or a null value.\n",
    "• Each data type serves different purposes and has different methods associated with it.\n",
    "For example, lists and dictionaries have methods to modify their content, while tuples\n",
    "and strings do not."
   ]
  },
  {
   "cell_type": "code",
   "execution_count": 10,
   "id": "91a5e952-913d-4731-8fc9-da9ba9d1f09b",
   "metadata": {},
   "outputs": [
    {
     "name": "stdout",
     "output_type": "stream",
     "text": [
      "True\n"
     ]
    },
    {
     "data": {
      "text/plain": [
       "(3, 4)"
      ]
     },
     "execution_count": 10,
     "metadata": {},
     "output_type": "execute_result"
    }
   ],
   "source": [
    "#Typecasting\n",
    "number = 5.0\n",
    "# type(number)\n",
    "print(number.is_integer()) # True\n",
    "number\n",
    "True\n",
    "5.0\n",
    "ratio = (0.75).as_integer_ratio() # (3, 4)\n",
    "ratio\n"
   ]
  },
  {
   "cell_type": "markdown",
   "id": "0a11c76b-6d79-4638-8017-fce8d9d6c316",
   "metadata": {},
   "source": [
    "Declaring Variables"
   ]
  },
  {
   "cell_type": "code",
   "execution_count": 55,
   "id": "93eee1dd-e319-4820-984c-a54eb94c1521",
   "metadata": {},
   "outputs": [
    {
     "name": "stdout",
     "output_type": "stream",
     "text": [
      "x is of type: <class 'int'>\n",
      "y is of type: <class 'float'>\n",
      "name is of type: <class 'str'>\n",
      "is_active is of type: <class 'bool'>\n"
     ]
    }
   ],
   "source": [
    "# Integer\n",
    "x = 10\n",
    "print(\"x is of type:\", type(x))\n",
    "# Float\n",
    "y = 3.14\n",
    "print(\"y is of type:\", type(y))\n",
    "# String\n",
    "name = \"John\"\n",
    "print(\"name is of type:\", type(name))\n",
    "# Boolean\n",
    "is_active = True\n",
    "print(\"is_active is of type:\", type(is_active))\n",
    "\n"
   ]
  },
  {
   "cell_type": "markdown",
   "id": "b224690e-4408-4fee-a3d7-c6df6f913c05",
   "metadata": {},
   "source": [
    "Type Conversion"
   ]
  },
  {
   "cell_type": "code",
   "execution_count": 57,
   "id": "81af36a5-0f5b-44c0-bccb-b58b31102e41",
   "metadata": {},
   "outputs": [
    {
     "name": "stdout",
     "output_type": "stream",
     "text": [
      "Converted to int: 5\n",
      "Converted to float: 25.0\n",
      "Converted to string: 90\n"
     ]
    }
   ],
   "source": [
    "# Convert float to int\n",
    "num = 5.67\n",
    "num_int = int(num)\n",
    "print(\"Converted to int:\", num_int)\n",
    "# Convert int to float\n",
    "age = 25\n",
    "age_float = float(age)\n",
    "print(\"Converted to float:\", age_float)\n",
    "# Convert int to string\n",
    "score = 90\n",
    "score_str = str(score)\n",
    "print(\"Converted to string:\", score_str)\n"
   ]
  },
  {
   "cell_type": "markdown",
   "id": "bee65797-09d2-45e6-9e6b-1f208eaf62a9",
   "metadata": {},
   "source": [
    "Operators in Python"
   ]
  },
  {
   "cell_type": "code",
   "execution_count": 59,
   "id": "41588680-ec02-438a-9d81-ea7d78fae58b",
   "metadata": {},
   "outputs": [
    {
     "name": "stdout",
     "output_type": "stream",
     "text": [
      "Addition: 13\n",
      "Subtraction: 7\n",
      "Multiplication: 30\n",
      "Division: 3.3333333333333335\n",
      "Floor Division: 3\n",
      "Modulus: 1\n",
      "Exponentiation: 1000\n"
     ]
    }
   ],
   "source": [
    "# Arithmetic operations\n",
    "a = 10\n",
    "b = 3\n",
    "print(\"Addition:\", a + b)\n",
    "print(\"Subtraction:\", a - b)\n",
    "print(\"Multiplication:\", a * b)\n",
    "print(\"Division:\", a / b)\n",
    "print(\"Floor Division:\", a // b)\n",
    "print(\"Modulus:\", a % b)\n",
    "print(\"Exponentiation:\", a ** b)"
   ]
  },
  {
   "cell_type": "code",
   "execution_count": 61,
   "id": "93ed04a8-883b-4e02-92ad-45e63e2abee3",
   "metadata": {},
   "outputs": [
    {
     "name": "stdout",
     "output_type": "stream",
     "text": [
      "Is x equal to y? False\n",
      "Is x not equal to y? True\n",
      "Is x greater than y? False\n",
      "Is x less than or equal to y? True\n"
     ]
    }
   ],
   "source": [
    "# Comparison operations\n",
    "x = 10\n",
    "y = 20\n",
    "print(\"Is x equal to y?\", x == y)\n",
    "print(\"Is x not equal to y?\", x != y)\n",
    "print(\"Is x greater than y?\", x > y)\n",
    "print(\"Is x less than or equal to y?\", x <= y)"
   ]
  },
  {
   "cell_type": "code",
   "execution_count": null,
   "id": "2f17223a-b24b-4174-a4e5-4c79388b16b4",
   "metadata": {},
   "outputs": [],
   "source": [
    "Logical Operators"
   ]
  },
  {
   "cell_type": "code",
   "execution_count": 20,
   "id": "6a3356c8-b401-4044-b0dd-76ec29740d65",
   "metadata": {},
   "outputs": [
    {
     "name": "stdout",
     "output_type": "stream",
     "text": [
      "x > 0 and y > 0: True\n",
      "x > 0 or y < 0: True\n",
      "not(x > 0): False\n"
     ]
    }
   ],
   "source": [
    "# Logical operations\n",
    "x = 5\n",
    "y = 10\n",
    "print(\"x > 0 and y > 0:\", x > 0 and y > 0)\n",
    "print(\"x > 0 or y < 0:\", x > 0 or y < 0)\n",
    "print(\"not(x > 0):\", not(x > 0))"
   ]
  },
  {
   "cell_type": "code",
   "execution_count": null,
   "id": "a34c304d-0de1-4df4-b0e3-54b616ca3553",
   "metadata": {},
   "outputs": [],
   "source": []
  }
 ],
 "metadata": {
  "kernelspec": {
   "display_name": "Python [conda env:base] *",
   "language": "python",
   "name": "conda-base-py"
  },
  "language_info": {
   "codemirror_mode": {
    "name": "ipython",
    "version": 3
   },
   "file_extension": ".py",
   "mimetype": "text/x-python",
   "name": "python",
   "nbconvert_exporter": "python",
   "pygments_lexer": "ipython3",
   "version": "3.12.7"
  }
 },
 "nbformat": 4,
 "nbformat_minor": 5
}
