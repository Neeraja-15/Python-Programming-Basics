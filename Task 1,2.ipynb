{
 "cells": [
  {
   "cell_type": "code",
   "execution_count": 26,
   "id": "bfed6c58-7e56-4fcf-b1d6-7d3ad0f8e397",
   "metadata": {},
   "outputs": [
    {
     "name": "stdout",
     "output_type": "stream",
     "text": [
      "50 <class 'int'>\n",
      "30.5 <class 'float'>\n"
     ]
    }
   ],
   "source": [
    "Task 1: Variable Assignment\n",
    "1. Create a variable a and assign it the value 50.\n",
    "2. Create another variable b and assign it the value 30.5.\n",
    "3. Print their values and types\n",
    "num1 = 50\n",
    "num2 = 30.5\n",
    "print(num1, type(num1))\n",
    "print(num2, type(num2))"
   ]
  },
  {
   "cell_type": "code",
   "execution_count": null,
   "id": "f2142487-5be6-4c9f-a21f-34ef7e9ae3ad",
   "metadata": {},
   "outputs": [],
   "source": [
    "Task 2: Operators\n",
    "1. Using variables a and b from Task 1, perform the following operations:\n",
    "– Addition\n",
    "– Subtraction\n",
    "– Multiplication\n",
    "– Floor Division\n",
    "2. Compare the two variables to check if a is greater than b.\n",
    "3. Swap the values of a and b without using a third variable."
   ]
  },
  {
   "cell_type": "code",
   "execution_count": 43,
   "id": "58200108-39ef-461d-8f1b-206c49daf471",
   "metadata": {},
   "outputs": [
    {
     "name": "stdout",
     "output_type": "stream",
     "text": [
      "Addition: 80.5\n",
      "Subtraction: 19.5\n",
      "Multiplication: 1525.0\n",
      "Floor Division: 1.0\n"
     ]
    }
   ],
   "source": [
    "#define Variables\n",
    "num1 = 50\n",
    "num2 = 30.5\n",
    "#Arthimethic operations\n",
    "print(\"Addition:\", num1 + num2)\n",
    "print(\"Subtraction:\", num1 - num2)\n",
    "print(\"Multiplication:\", num1 * num2)\n",
    "print(\"Floor Division:\", num1 // num2)  \n",
    "\n"
   ]
  },
  {
   "cell_type": "code",
   "execution_count": 40,
   "id": "f60f8510-751a-4fad-a402-8d8bdcf4cffa",
   "metadata": {},
   "outputs": [
    {
     "name": "stdout",
     "output_type": "stream",
     "text": [
      "50\n",
      "30.5\n",
      "Is num1 greater than num2? True\n"
     ]
    }
   ],
   "source": [
    "#Comparison\n",
    "print(num1)\n",
    "print(num2)\n",
    "print(\"Is num1 greater than num2?\", num1 > num2)"
   ]
  },
  {
   "cell_type": "code",
   "execution_count": 36,
   "id": "92dd7d82-816d-4400-bd2b-428e0c499ffb",
   "metadata": {},
   "outputs": [
    {
     "name": "stdout",
     "output_type": "stream",
     "text": [
      "After swapping: num1 = 30.5 num2 = 50\n"
     ]
    }
   ],
   "source": [
    "#\n",
    "num1, num2 = num2, num1\n",
    "print(\"After swapping: num1 =\", num1, \"num2 =\", num2)"
   ]
  },
  {
   "cell_type": "code",
   "execution_count": null,
   "id": "d370e1ee-5319-41cb-8021-18a37ae27571",
   "metadata": {},
   "outputs": [],
   "source": [
    "num1=10\n",
    " "
   ]
  }
 ],
 "metadata": {
  "kernelspec": {
   "display_name": "Python [conda env:base] *",
   "language": "python",
   "name": "conda-base-py"
  },
  "language_info": {
   "codemirror_mode": {
    "name": "ipython",
    "version": 3
   },
   "file_extension": ".py",
   "mimetype": "text/x-python",
   "name": "python",
   "nbconvert_exporter": "python",
   "pygments_lexer": "ipython3",
   "version": "3.12.7"
  }
 },
 "nbformat": 4,
 "nbformat_minor": 5
}
